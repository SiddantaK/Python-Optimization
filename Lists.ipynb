{
 "cells": [
  {
   "cell_type": "markdown",
   "id": "91fc23dc-6f93-42d6-a7f2-ab25331e2159",
   "metadata": {},
   "source": [
    "# 1. Never Modify your list while iterating through it\n"
   ]
  },
  {
   "cell_type": "code",
   "execution_count": 30,
   "id": "c4f32a1d-307b-4335-a127-20b1dbf5632f",
   "metadata": {},
   "outputs": [],
   "source": [
    "listA = ['a','b','c','d','e']"
   ]
  },
  {
   "cell_type": "code",
   "execution_count": 32,
   "id": "87bd6726-9e10-4bed-993e-9312eacc0fe8",
   "metadata": {},
   "outputs": [
    {
     "name": "stdout",
     "output_type": "stream",
     "text": [
      "a\n",
      "b\n",
      "e\n"
     ]
    }
   ],
   "source": [
    "for list in listA:\n",
    "    if list == 'c':\n",
    "        listA.remove(list)\n",
    "    else:\n",
    "        print(list)"
   ]
  },
  {
   "cell_type": "markdown",
   "id": "d522b2e6-3da7-4725-b957-4d1ae42b125e",
   "metadata": {},
   "source": [
    "# 2. Use List Comprehensions instead of for loop\n"
   ]
  },
  {
   "cell_type": "code",
   "execution_count": 39,
   "id": "64459c69-d0a2-4b14-bd4e-6aaa603c8607",
   "metadata": {},
   "outputs": [
    {
     "name": "stdout",
     "output_type": "stream",
     "text": [
      "[0, 1, 4, 9, 16, 25, 36, 49, 64, 81]\n"
     ]
    }
   ],
   "source": [
    "squares = []\n",
    "for i in range(10):\n",
    "    squares.append(i**2)\n",
    "print(squares)"
   ]
  },
  {
   "cell_type": "code",
   "execution_count": 47,
   "id": "1bb6673b-5365-4219-9534-45870f4fef3c",
   "metadata": {},
   "outputs": [
    {
     "data": {
      "text/plain": [
       "[0, 1, 4, 9, 16, 25, 36, 49, 64, 81]"
      ]
     },
     "execution_count": 47,
     "metadata": {},
     "output_type": "execute_result"
    }
   ],
   "source": [
    "squares = [i**2 for i in range(10)]\n",
    "squares"
   ]
  },
  {
   "cell_type": "markdown",
   "id": "32b093a2-d175-41f9-a17a-a001e01a649c",
   "metadata": {},
   "source": [
    "## 3. Shifting Zero PRoblems"
   ]
  },
  {
   "cell_type": "code",
   "execution_count": 106,
   "id": "6f70ef77-14bf-4c89-8df1-9d523357736f",
   "metadata": {},
   "outputs": [],
   "source": [
    "import time\n",
    "import random"
   ]
  },
  {
   "cell_type": "code",
   "execution_count": 133,
   "id": "c3d0685b-39ea-41bd-abdc-0b4eb35c9262",
   "metadata": {},
   "outputs": [],
   "source": [
    "def func(a):\n",
    "    for i in a: # O(n)\n",
    "        if i == 0:\n",
    "            a.remove(i) #O(n)\n",
    "            a.append(0)\n",
    "    return a"
   ]
  },
  {
   "cell_type": "code",
   "execution_count": 139,
   "id": "dc1f830a-9402-415b-80a8-3a67411d126d",
   "metadata": {},
   "outputs": [
    {
     "name": "stdout",
     "output_type": "stream",
     "text": [
      "Time Taken: 0.08580994606018066\n"
     ]
    }
   ],
   "source": [
    "a = [random.randint(0,9) for _ in range(10000)]\n",
    "start = time.time()\n",
    "func(a)\n",
    "print(\"Time Taken:\",time.time()-start)"
   ]
  },
  {
   "cell_type": "code",
   "execution_count": 102,
   "id": "e800fdd4-014a-47ec-873c-fa54b50b06db",
   "metadata": {},
   "outputs": [
    {
     "data": {
      "text/plain": [
       "[1, 2, 3, 0, 0]"
      ]
     },
     "execution_count": 102,
     "metadata": {},
     "output_type": "execute_result"
    }
   ],
   "source": [
    "[1,2,3]+[0,0]"
   ]
  },
  {
   "cell_type": "code",
   "execution_count": 141,
   "id": "35ab1567-ec27-4189-b012-7f977005d98a",
   "metadata": {},
   "outputs": [],
   "source": [
    "def func_sol(a):\n",
    "    t = []\n",
    "    count_zero = 0\n",
    "    for i in a: # O(n)\n",
    "        if i == 0:\n",
    "            count_zero+=1 # O(1)\n",
    "        else:\n",
    "            t.append(i) # O(1)\n",
    "    t.extend(count_zero*[0])# O(n)\n",
    "    return t"
   ]
  },
  {
   "cell_type": "code",
   "execution_count": 145,
   "id": "7d3c2bde-726b-41b2-8a97-09764e78a64b",
   "metadata": {},
   "outputs": [
    {
     "name": "stdout",
     "output_type": "stream",
     "text": [
      "Time Taken: 0.001249074935913086 ms\n"
     ]
    }
   ],
   "source": [
    "start = time.time()\n",
    "func_sol(a)\n",
    "print(\"Time Taken:\",time.time()-start,'ms')"
   ]
  },
  {
   "cell_type": "markdown",
   "id": "bbd89976-16fa-4d98-92b9-b9a9a4d14987",
   "metadata": {},
   "source": [
    "## 4. You can change Tuple ??\n",
    "\n",
    "list within the tuple are changeable "
   ]
  },
  {
   "cell_type": "code",
   "execution_count": 151,
   "id": "0bfdda2a-4e71-4426-a6fc-aaadf03744db",
   "metadata": {},
   "outputs": [
    {
     "data": {
      "text/plain": [
       "([1, 2], [3, 4])"
      ]
     },
     "execution_count": 151,
     "metadata": {},
     "output_type": "execute_result"
    }
   ],
   "source": [
    "myTup = ([1,2],[3])\n",
    "myTup[1].append(4)\n",
    "myTup"
   ]
  },
  {
   "cell_type": "code",
   "execution_count": null,
   "id": "4b6546b5-4fd6-4460-ae39-1c07d136bf22",
   "metadata": {},
   "outputs": [],
   "source": []
  }
 ],
 "metadata": {
  "kernelspec": {
   "display_name": "Python 3 (ipykernel)",
   "language": "python",
   "name": "python3"
  },
  "language_info": {
   "codemirror_mode": {
    "name": "ipython",
    "version": 3
   },
   "file_extension": ".py",
   "mimetype": "text/x-python",
   "name": "python",
   "nbconvert_exporter": "python",
   "pygments_lexer": "ipython3",
   "version": "3.11.7"
  }
 },
 "nbformat": 4,
 "nbformat_minor": 5
}
